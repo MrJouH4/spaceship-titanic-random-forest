{
 "cells": [
  {
   "cell_type": "code",
   "execution_count": 1,
   "id": "aff43e8c",
   "metadata": {
    "_cell_guid": "b1076dfc-b9ad-4769-8c92-a6c4dae69d19",
    "_uuid": "8f2839f25d086af736a60e9eeb907d3b93b6e0e5",
    "execution": {
     "iopub.execute_input": "2023-03-11T14:46:28.426675Z",
     "iopub.status.busy": "2023-03-11T14:46:28.425885Z",
     "iopub.status.idle": "2023-03-11T14:46:30.152171Z",
     "shell.execute_reply": "2023-03-11T14:46:30.150971Z"
    },
    "papermill": {
     "duration": 1.739933,
     "end_time": "2023-03-11T14:46:30.156261",
     "exception": false,
     "start_time": "2023-03-11T14:46:28.416328",
     "status": "completed"
    },
    "tags": []
   },
   "outputs": [
    {
     "name": "stdout",
     "output_type": "stream",
     "text": [
      "/kaggle/input/spaceship-titanic/sample_submission.csv\n",
      "/kaggle/input/spaceship-titanic/train.csv\n",
      "/kaggle/input/spaceship-titanic/test.csv\n"
     ]
    }
   ],
   "source": [
    "# This Python 3 environment comes with many helpful analytics libraries installed\n",
    "# It is defined by the kaggle/python Docker image: https://github.com/kaggle/docker-python\n",
    "# For example, here's several helpful packages to load\n",
    "\n",
    "import numpy as np # linear algebra\n",
    "import pandas as pd # data processing, CSV file I/O (e.g. pd.read_csv)\n",
    "import seaborn as sns\n",
    "import matplotlib.pyplot as plt\n",
    "from sklearn.metrics import confusion_matrix\n",
    "from sklearn.model_selection import train_test_split, GridSearchCV, cross_val_score\n",
    "from sklearn.pipeline import make_pipeline\n",
    "from sklearn.impute import SimpleImputer\n",
    "from sklearn.linear_model import LogisticRegression\n",
    "from sklearn.preprocessing import OneHotEncoder, LabelEncoder\n",
    "from sklearn.ensemble import RandomForestClassifier\n",
    "# Input data files are available in the read-only \"../input/\" directory\n",
    "# For example, running this (by clicking run or pressing Shift+Enter) will list all files under the input directory\n",
    "\n",
    "import os\n",
    "for dirname, _, filenames in os.walk('/kaggle/input'):\n",
    "    for filename in filenames:\n",
    "        print(os.path.join(dirname, filename))\n",
    "\n",
    "# You can write up to 20GB to the current directory (/kaggle/working/) that gets preserved as output when you create a version using \"Save & Run All\" \n",
    "# You can also write temporary files to /kaggle/temp/, but they won't be saved outside of the current session"
   ]
  },
  {
   "cell_type": "code",
   "execution_count": 2,
   "id": "059e37a2",
   "metadata": {
    "execution": {
     "iopub.execute_input": "2023-03-11T14:46:30.172446Z",
     "iopub.status.busy": "2023-03-11T14:46:30.171785Z",
     "iopub.status.idle": "2023-03-11T14:46:30.179579Z",
     "shell.execute_reply": "2023-03-11T14:46:30.178394Z"
    },
    "papermill": {
     "duration": 0.018203,
     "end_time": "2023-03-11T14:46:30.181914",
     "exception": false,
     "start_time": "2023-03-11T14:46:30.163711",
     "status": "completed"
    },
    "tags": []
   },
   "outputs": [],
   "source": [
    "def wrangle(path):\n",
    "    df = pd.read_csv(path)\n",
    "    df.drop(columns=[\"Name\", \"Cabin\"], inplace=True)\n",
    "    df[\"VIP\"] = df[\"VIP\"].astype(\"bool\")\n",
    "    df[\"CryoSleep\"] = df[\"CryoSleep\"].astype(\"bool\")\n",
    "    home_planet = pd.get_dummies(df[\"HomePlanet\"], drop_first=True)\n",
    "    destination = pd.get_dummies(df[\"Destination\"], drop_first=True)\n",
    "    df = pd.concat([df, home_planet, destination], axis=1)\n",
    "    df.drop(columns=[\"HomePlanet\", \"Destination\"], inplace=True)\n",
    "    return df"
   ]
  },
  {
   "cell_type": "code",
   "execution_count": 3,
   "id": "b233b5e3",
   "metadata": {
    "execution": {
     "iopub.execute_input": "2023-03-11T14:46:30.197130Z",
     "iopub.status.busy": "2023-03-11T14:46:30.196698Z",
     "iopub.status.idle": "2023-03-11T14:46:30.301780Z",
     "shell.execute_reply": "2023-03-11T14:46:30.300702Z"
    },
    "papermill": {
     "duration": 0.115729,
     "end_time": "2023-03-11T14:46:30.304508",
     "exception": false,
     "start_time": "2023-03-11T14:46:30.188779",
     "status": "completed"
    },
    "tags": []
   },
   "outputs": [
    {
     "data": {
      "text/html": [
       "<div>\n",
       "<style scoped>\n",
       "    .dataframe tbody tr th:only-of-type {\n",
       "        vertical-align: middle;\n",
       "    }\n",
       "\n",
       "    .dataframe tbody tr th {\n",
       "        vertical-align: top;\n",
       "    }\n",
       "\n",
       "    .dataframe thead th {\n",
       "        text-align: right;\n",
       "    }\n",
       "</style>\n",
       "<table border=\"1\" class=\"dataframe\">\n",
       "  <thead>\n",
       "    <tr style=\"text-align: right;\">\n",
       "      <th></th>\n",
       "      <th>PassengerId</th>\n",
       "      <th>CryoSleep</th>\n",
       "      <th>Age</th>\n",
       "      <th>VIP</th>\n",
       "      <th>RoomService</th>\n",
       "      <th>FoodCourt</th>\n",
       "      <th>ShoppingMall</th>\n",
       "      <th>Spa</th>\n",
       "      <th>VRDeck</th>\n",
       "      <th>Transported</th>\n",
       "      <th>Europa</th>\n",
       "      <th>Mars</th>\n",
       "      <th>PSO J318.5-22</th>\n",
       "      <th>TRAPPIST-1e</th>\n",
       "    </tr>\n",
       "  </thead>\n",
       "  <tbody>\n",
       "    <tr>\n",
       "      <th>0</th>\n",
       "      <td>0001_01</td>\n",
       "      <td>False</td>\n",
       "      <td>39.0</td>\n",
       "      <td>False</td>\n",
       "      <td>0.0</td>\n",
       "      <td>0.0</td>\n",
       "      <td>0.0</td>\n",
       "      <td>0.0</td>\n",
       "      <td>0.0</td>\n",
       "      <td>False</td>\n",
       "      <td>1</td>\n",
       "      <td>0</td>\n",
       "      <td>0</td>\n",
       "      <td>1</td>\n",
       "    </tr>\n",
       "    <tr>\n",
       "      <th>1</th>\n",
       "      <td>0002_01</td>\n",
       "      <td>False</td>\n",
       "      <td>24.0</td>\n",
       "      <td>False</td>\n",
       "      <td>109.0</td>\n",
       "      <td>9.0</td>\n",
       "      <td>25.0</td>\n",
       "      <td>549.0</td>\n",
       "      <td>44.0</td>\n",
       "      <td>True</td>\n",
       "      <td>0</td>\n",
       "      <td>0</td>\n",
       "      <td>0</td>\n",
       "      <td>1</td>\n",
       "    </tr>\n",
       "    <tr>\n",
       "      <th>2</th>\n",
       "      <td>0003_01</td>\n",
       "      <td>False</td>\n",
       "      <td>58.0</td>\n",
       "      <td>True</td>\n",
       "      <td>43.0</td>\n",
       "      <td>3576.0</td>\n",
       "      <td>0.0</td>\n",
       "      <td>6715.0</td>\n",
       "      <td>49.0</td>\n",
       "      <td>False</td>\n",
       "      <td>1</td>\n",
       "      <td>0</td>\n",
       "      <td>0</td>\n",
       "      <td>1</td>\n",
       "    </tr>\n",
       "    <tr>\n",
       "      <th>3</th>\n",
       "      <td>0003_02</td>\n",
       "      <td>False</td>\n",
       "      <td>33.0</td>\n",
       "      <td>False</td>\n",
       "      <td>0.0</td>\n",
       "      <td>1283.0</td>\n",
       "      <td>371.0</td>\n",
       "      <td>3329.0</td>\n",
       "      <td>193.0</td>\n",
       "      <td>False</td>\n",
       "      <td>1</td>\n",
       "      <td>0</td>\n",
       "      <td>0</td>\n",
       "      <td>1</td>\n",
       "    </tr>\n",
       "    <tr>\n",
       "      <th>4</th>\n",
       "      <td>0004_01</td>\n",
       "      <td>False</td>\n",
       "      <td>16.0</td>\n",
       "      <td>False</td>\n",
       "      <td>303.0</td>\n",
       "      <td>70.0</td>\n",
       "      <td>151.0</td>\n",
       "      <td>565.0</td>\n",
       "      <td>2.0</td>\n",
       "      <td>True</td>\n",
       "      <td>0</td>\n",
       "      <td>0</td>\n",
       "      <td>0</td>\n",
       "      <td>1</td>\n",
       "    </tr>\n",
       "  </tbody>\n",
       "</table>\n",
       "</div>"
      ],
      "text/plain": [
       "  PassengerId  CryoSleep   Age    VIP  RoomService  FoodCourt  ShoppingMall  \\\n",
       "0     0001_01      False  39.0  False          0.0        0.0           0.0   \n",
       "1     0002_01      False  24.0  False        109.0        9.0          25.0   \n",
       "2     0003_01      False  58.0   True         43.0     3576.0           0.0   \n",
       "3     0003_02      False  33.0  False          0.0     1283.0         371.0   \n",
       "4     0004_01      False  16.0  False        303.0       70.0         151.0   \n",
       "\n",
       "      Spa  VRDeck  Transported  Europa  Mars  PSO J318.5-22  TRAPPIST-1e  \n",
       "0     0.0     0.0        False       1     0              0            1  \n",
       "1   549.0    44.0         True       0     0              0            1  \n",
       "2  6715.0    49.0        False       1     0              0            1  \n",
       "3  3329.0   193.0        False       1     0              0            1  \n",
       "4   565.0     2.0         True       0     0              0            1  "
      ]
     },
     "execution_count": 3,
     "metadata": {},
     "output_type": "execute_result"
    }
   ],
   "source": [
    "df = wrangle(\"/kaggle/input/spaceship-titanic/train.csv\")\n",
    "df.head()"
   ]
  },
  {
   "cell_type": "code",
   "execution_count": 4,
   "id": "15015b34",
   "metadata": {
    "execution": {
     "iopub.execute_input": "2023-03-11T14:46:30.321091Z",
     "iopub.status.busy": "2023-03-11T14:46:30.320017Z",
     "iopub.status.idle": "2023-03-11T14:46:30.327359Z",
     "shell.execute_reply": "2023-03-11T14:46:30.326083Z"
    },
    "papermill": {
     "duration": 0.018528,
     "end_time": "2023-03-11T14:46:30.329974",
     "exception": false,
     "start_time": "2023-03-11T14:46:30.311446",
     "status": "completed"
    },
    "tags": []
   },
   "outputs": [
    {
     "data": {
      "text/plain": [
       "(8693, 14)"
      ]
     },
     "execution_count": 4,
     "metadata": {},
     "output_type": "execute_result"
    }
   ],
   "source": [
    "df.shape"
   ]
  },
  {
   "cell_type": "code",
   "execution_count": 5,
   "id": "cfd3057b",
   "metadata": {
    "execution": {
     "iopub.execute_input": "2023-03-11T14:46:30.345674Z",
     "iopub.status.busy": "2023-03-11T14:46:30.345264Z",
     "iopub.status.idle": "2023-03-11T14:46:30.365468Z",
     "shell.execute_reply": "2023-03-11T14:46:30.363961Z"
    },
    "papermill": {
     "duration": 0.031824,
     "end_time": "2023-03-11T14:46:30.368686",
     "exception": false,
     "start_time": "2023-03-11T14:46:30.336862",
     "status": "completed"
    },
    "tags": []
   },
   "outputs": [
    {
     "name": "stdout",
     "output_type": "stream",
     "text": [
      "<class 'pandas.core.frame.DataFrame'>\n",
      "RangeIndex: 8693 entries, 0 to 8692\n",
      "Data columns (total 14 columns):\n",
      " #   Column         Non-Null Count  Dtype  \n",
      "---  ------         --------------  -----  \n",
      " 0   PassengerId    8693 non-null   object \n",
      " 1   CryoSleep      8693 non-null   bool   \n",
      " 2   Age            8514 non-null   float64\n",
      " 3   VIP            8693 non-null   bool   \n",
      " 4   RoomService    8512 non-null   float64\n",
      " 5   FoodCourt      8510 non-null   float64\n",
      " 6   ShoppingMall   8485 non-null   float64\n",
      " 7   Spa            8510 non-null   float64\n",
      " 8   VRDeck         8505 non-null   float64\n",
      " 9   Transported    8693 non-null   bool   \n",
      " 10  Europa         8693 non-null   uint8  \n",
      " 11  Mars           8693 non-null   uint8  \n",
      " 12  PSO J318.5-22  8693 non-null   uint8  \n",
      " 13  TRAPPIST-1e    8693 non-null   uint8  \n",
      "dtypes: bool(3), float64(6), object(1), uint8(4)\n",
      "memory usage: 534.9+ KB\n"
     ]
    }
   ],
   "source": [
    "df.info()"
   ]
  },
  {
   "cell_type": "code",
   "execution_count": 6,
   "id": "09778d28",
   "metadata": {
    "execution": {
     "iopub.execute_input": "2023-03-11T14:46:30.385243Z",
     "iopub.status.busy": "2023-03-11T14:46:30.384512Z",
     "iopub.status.idle": "2023-03-11T14:46:30.430421Z",
     "shell.execute_reply": "2023-03-11T14:46:30.429231Z"
    },
    "papermill": {
     "duration": 0.056969,
     "end_time": "2023-03-11T14:46:30.432933",
     "exception": false,
     "start_time": "2023-03-11T14:46:30.375964",
     "status": "completed"
    },
    "tags": []
   },
   "outputs": [
    {
     "data": {
      "text/html": [
       "<div>\n",
       "<style scoped>\n",
       "    .dataframe tbody tr th:only-of-type {\n",
       "        vertical-align: middle;\n",
       "    }\n",
       "\n",
       "    .dataframe tbody tr th {\n",
       "        vertical-align: top;\n",
       "    }\n",
       "\n",
       "    .dataframe thead th {\n",
       "        text-align: right;\n",
       "    }\n",
       "</style>\n",
       "<table border=\"1\" class=\"dataframe\">\n",
       "  <thead>\n",
       "    <tr style=\"text-align: right;\">\n",
       "      <th></th>\n",
       "      <th>Age</th>\n",
       "      <th>RoomService</th>\n",
       "      <th>FoodCourt</th>\n",
       "      <th>ShoppingMall</th>\n",
       "      <th>Spa</th>\n",
       "      <th>VRDeck</th>\n",
       "      <th>Europa</th>\n",
       "      <th>Mars</th>\n",
       "      <th>PSO J318.5-22</th>\n",
       "      <th>TRAPPIST-1e</th>\n",
       "    </tr>\n",
       "  </thead>\n",
       "  <tbody>\n",
       "    <tr>\n",
       "      <th>count</th>\n",
       "      <td>8514.000000</td>\n",
       "      <td>8512.000000</td>\n",
       "      <td>8510.000000</td>\n",
       "      <td>8485.000000</td>\n",
       "      <td>8510.000000</td>\n",
       "      <td>8505.000000</td>\n",
       "      <td>8693.000000</td>\n",
       "      <td>8693.000000</td>\n",
       "      <td>8693.000000</td>\n",
       "      <td>8693.000000</td>\n",
       "    </tr>\n",
       "    <tr>\n",
       "      <th>mean</th>\n",
       "      <td>28.827930</td>\n",
       "      <td>224.687617</td>\n",
       "      <td>458.077203</td>\n",
       "      <td>173.729169</td>\n",
       "      <td>311.138778</td>\n",
       "      <td>304.854791</td>\n",
       "      <td>0.245140</td>\n",
       "      <td>0.202347</td>\n",
       "      <td>0.091568</td>\n",
       "      <td>0.680433</td>\n",
       "    </tr>\n",
       "    <tr>\n",
       "      <th>std</th>\n",
       "      <td>14.489021</td>\n",
       "      <td>666.717663</td>\n",
       "      <td>1611.489240</td>\n",
       "      <td>604.696458</td>\n",
       "      <td>1136.705535</td>\n",
       "      <td>1145.717189</td>\n",
       "      <td>0.430195</td>\n",
       "      <td>0.401772</td>\n",
       "      <td>0.288432</td>\n",
       "      <td>0.466336</td>\n",
       "    </tr>\n",
       "    <tr>\n",
       "      <th>min</th>\n",
       "      <td>0.000000</td>\n",
       "      <td>0.000000</td>\n",
       "      <td>0.000000</td>\n",
       "      <td>0.000000</td>\n",
       "      <td>0.000000</td>\n",
       "      <td>0.000000</td>\n",
       "      <td>0.000000</td>\n",
       "      <td>0.000000</td>\n",
       "      <td>0.000000</td>\n",
       "      <td>0.000000</td>\n",
       "    </tr>\n",
       "    <tr>\n",
       "      <th>25%</th>\n",
       "      <td>19.000000</td>\n",
       "      <td>0.000000</td>\n",
       "      <td>0.000000</td>\n",
       "      <td>0.000000</td>\n",
       "      <td>0.000000</td>\n",
       "      <td>0.000000</td>\n",
       "      <td>0.000000</td>\n",
       "      <td>0.000000</td>\n",
       "      <td>0.000000</td>\n",
       "      <td>0.000000</td>\n",
       "    </tr>\n",
       "    <tr>\n",
       "      <th>50%</th>\n",
       "      <td>27.000000</td>\n",
       "      <td>0.000000</td>\n",
       "      <td>0.000000</td>\n",
       "      <td>0.000000</td>\n",
       "      <td>0.000000</td>\n",
       "      <td>0.000000</td>\n",
       "      <td>0.000000</td>\n",
       "      <td>0.000000</td>\n",
       "      <td>0.000000</td>\n",
       "      <td>1.000000</td>\n",
       "    </tr>\n",
       "    <tr>\n",
       "      <th>75%</th>\n",
       "      <td>38.000000</td>\n",
       "      <td>47.000000</td>\n",
       "      <td>76.000000</td>\n",
       "      <td>27.000000</td>\n",
       "      <td>59.000000</td>\n",
       "      <td>46.000000</td>\n",
       "      <td>0.000000</td>\n",
       "      <td>0.000000</td>\n",
       "      <td>0.000000</td>\n",
       "      <td>1.000000</td>\n",
       "    </tr>\n",
       "    <tr>\n",
       "      <th>max</th>\n",
       "      <td>79.000000</td>\n",
       "      <td>14327.000000</td>\n",
       "      <td>29813.000000</td>\n",
       "      <td>23492.000000</td>\n",
       "      <td>22408.000000</td>\n",
       "      <td>24133.000000</td>\n",
       "      <td>1.000000</td>\n",
       "      <td>1.000000</td>\n",
       "      <td>1.000000</td>\n",
       "      <td>1.000000</td>\n",
       "    </tr>\n",
       "  </tbody>\n",
       "</table>\n",
       "</div>"
      ],
      "text/plain": [
       "               Age   RoomService     FoodCourt  ShoppingMall           Spa  \\\n",
       "count  8514.000000   8512.000000   8510.000000   8485.000000   8510.000000   \n",
       "mean     28.827930    224.687617    458.077203    173.729169    311.138778   \n",
       "std      14.489021    666.717663   1611.489240    604.696458   1136.705535   \n",
       "min       0.000000      0.000000      0.000000      0.000000      0.000000   \n",
       "25%      19.000000      0.000000      0.000000      0.000000      0.000000   \n",
       "50%      27.000000      0.000000      0.000000      0.000000      0.000000   \n",
       "75%      38.000000     47.000000     76.000000     27.000000     59.000000   \n",
       "max      79.000000  14327.000000  29813.000000  23492.000000  22408.000000   \n",
       "\n",
       "             VRDeck       Europa         Mars  PSO J318.5-22  TRAPPIST-1e  \n",
       "count   8505.000000  8693.000000  8693.000000    8693.000000  8693.000000  \n",
       "mean     304.854791     0.245140     0.202347       0.091568     0.680433  \n",
       "std     1145.717189     0.430195     0.401772       0.288432     0.466336  \n",
       "min        0.000000     0.000000     0.000000       0.000000     0.000000  \n",
       "25%        0.000000     0.000000     0.000000       0.000000     0.000000  \n",
       "50%        0.000000     0.000000     0.000000       0.000000     1.000000  \n",
       "75%       46.000000     0.000000     0.000000       0.000000     1.000000  \n",
       "max    24133.000000     1.000000     1.000000       1.000000     1.000000  "
      ]
     },
     "execution_count": 6,
     "metadata": {},
     "output_type": "execute_result"
    }
   ],
   "source": [
    "df.describe()"
   ]
  },
  {
   "cell_type": "code",
   "execution_count": 7,
   "id": "b1790cb3",
   "metadata": {
    "execution": {
     "iopub.execute_input": "2023-03-11T14:46:30.449854Z",
     "iopub.status.busy": "2023-03-11T14:46:30.448885Z",
     "iopub.status.idle": "2023-03-11T14:46:30.460556Z",
     "shell.execute_reply": "2023-03-11T14:46:30.459214Z"
    },
    "papermill": {
     "duration": 0.022955,
     "end_time": "2023-03-11T14:46:30.463237",
     "exception": false,
     "start_time": "2023-03-11T14:46:30.440282",
     "status": "completed"
    },
    "tags": []
   },
   "outputs": [
    {
     "data": {
      "text/plain": [
       "0.1      0.0\n",
       "0.9    753.0\n",
       "Name: RoomService, dtype: float64"
      ]
     },
     "execution_count": 7,
     "metadata": {},
     "output_type": "execute_result"
    }
   ],
   "source": [
    "df[\"RoomService\"].quantile([0.1, 0.9])"
   ]
  },
  {
   "cell_type": "code",
   "execution_count": 8,
   "id": "2e6e284f",
   "metadata": {
    "execution": {
     "iopub.execute_input": "2023-03-11T14:46:30.479801Z",
     "iopub.status.busy": "2023-03-11T14:46:30.479391Z",
     "iopub.status.idle": "2023-03-11T14:46:30.706369Z",
     "shell.execute_reply": "2023-03-11T14:46:30.705081Z"
    },
    "papermill": {
     "duration": 0.238571,
     "end_time": "2023-03-11T14:46:30.709149",
     "exception": false,
     "start_time": "2023-03-11T14:46:30.470578",
     "status": "completed"
    },
    "tags": []
   },
   "outputs": [
    {
     "data": {
      "text/plain": [
       "<AxesSubplot:>"
      ]
     },
     "execution_count": 8,
     "metadata": {},
     "output_type": "execute_result"
    },
    {
     "data": {
      "image/png": "[encoded data removed]",
      "text/plain": [
       "<Figure size 640x480 with 1 Axes>"
      ]
     },
     "metadata": {},
     "output_type": "display_data"
    }
   ],
   "source": [
    "sns.boxplot(df[\"Spa\"])"
   ]
  },
  {
   "cell_type": "code",
   "execution_count": 9,
   "id": "2d21fb67",
   "metadata": {
    "execution": {
     "iopub.execute_input": "2023-03-11T14:46:30.726869Z",
     "iopub.status.busy": "2023-03-11T14:46:30.726133Z",
     "iopub.status.idle": "2023-03-11T14:46:31.810605Z",
     "shell.execute_reply": "2023-03-11T14:46:31.809447Z"
    },
    "papermill": {
     "duration": 1.097674,
     "end_time": "2023-03-11T14:46:31.814474",
     "exception": false,
     "start_time": "2023-03-11T14:46:30.716800",
     "status": "completed"
    },
    "tags": []
   },
   "outputs": [
    {
     "data": {
      "text/plain": [
       "<AxesSubplot:>"
      ]
     },
     "execution_count": 9,
     "metadata": {},
     "output_type": "execute_result"
    },
    {
     "data": {
      "image/png": "[encoded data removed]",
      "text/plain": [
       "<Figure size 640x480 with 2 Axes>"
      ]
     },
     "metadata": {},
     "output_type": "display_data"
    }
   ],
   "source": [
    "#to check if there are any feature depend on an another feature\n",
    "cor = df.drop(columns=\"Transported\").corr()\n",
    "sns.heatmap(cor, annot=True)"
   ]
  },
  {
   "cell_type": "code",
   "execution_count": 10,
   "id": "7fa1989a",
   "metadata": {
    "execution": {
     "iopub.execute_input": "2023-03-11T14:46:31.837555Z",
     "iopub.status.busy": "2023-03-11T14:46:31.837108Z",
     "iopub.status.idle": "2023-03-11T14:46:31.852130Z",
     "shell.execute_reply": "2023-03-11T14:46:31.850368Z"
    },
    "papermill": {
     "duration": 0.032107,
     "end_time": "2023-03-11T14:46:31.856594",
     "exception": false,
     "start_time": "2023-03-11T14:46:31.824487",
     "status": "completed"
    },
    "tags": []
   },
   "outputs": [
    {
     "data": {
      "text/plain": [
       "True     0.503624\n",
       "False    0.496376\n",
       "Name: Transported, dtype: float64"
      ]
     },
     "execution_count": 10,
     "metadata": {},
     "output_type": "execute_result"
    }
   ],
   "source": [
    "df[\"Transported\"].value_counts(normalize=True)"
   ]
  },
  {
   "cell_type": "code",
   "execution_count": 11,
   "id": "efc6670e",
   "metadata": {
    "execution": {
     "iopub.execute_input": "2023-03-11T14:46:31.880164Z",
     "iopub.status.busy": "2023-03-11T14:46:31.879439Z",
     "iopub.status.idle": "2023-03-11T14:46:31.886391Z",
     "shell.execute_reply": "2023-03-11T14:46:31.885280Z"
    },
    "papermill": {
     "duration": 0.022304,
     "end_time": "2023-03-11T14:46:31.888919",
     "exception": false,
     "start_time": "2023-03-11T14:46:31.866615",
     "status": "completed"
    },
    "tags": []
   },
   "outputs": [
    {
     "name": "stdout",
     "output_type": "stream",
     "text": [
      "Baseline Accuracy: 0.504\n"
     ]
    }
   ],
   "source": [
    "acc_baseline = df[\"Transported\"].value_counts(normalize=True).max()\n",
    "print(\"Baseline Accuracy: {:.03f}\".format(acc_baseline))"
   ]
  },
  {
   "cell_type": "code",
   "execution_count": 12,
   "id": "32fafd56",
   "metadata": {
    "execution": {
     "iopub.execute_input": "2023-03-11T14:46:31.910895Z",
     "iopub.status.busy": "2023-03-11T14:46:31.910240Z",
     "iopub.status.idle": "2023-03-11T14:46:31.918942Z",
     "shell.execute_reply": "2023-03-11T14:46:31.917499Z"
    },
    "papermill": {
     "duration": 0.022753,
     "end_time": "2023-03-11T14:46:31.921695",
     "exception": false,
     "start_time": "2023-03-11T14:46:31.898942",
     "status": "completed"
    },
    "tags": []
   },
   "outputs": [
    {
     "name": "stdout",
     "output_type": "stream",
     "text": [
      "X Shape:  (8693, 12)\n",
      "y Shape:  (8693,)\n"
     ]
    }
   ],
   "source": [
    "target = \"Transported\"\n",
    "X = df.drop(columns=[target, \"PassengerId\"])\n",
    "y= df[target]\n",
    "print(\"X Shape: \", X.shape)\n",
    "print(\"y Shape: \", y.shape)"
   ]
  },
  {
   "cell_type": "code",
   "execution_count": 13,
   "id": "bb732c59",
   "metadata": {
    "execution": {
     "iopub.execute_input": "2023-03-11T14:46:31.944646Z",
     "iopub.status.busy": "2023-03-11T14:46:31.943410Z",
     "iopub.status.idle": "2023-03-11T14:46:31.955599Z",
     "shell.execute_reply": "2023-03-11T14:46:31.954039Z"
    },
    "papermill": {
     "duration": 0.026013,
     "end_time": "2023-03-11T14:46:31.957934",
     "exception": false,
     "start_time": "2023-03-11T14:46:31.931921",
     "status": "completed"
    },
    "tags": []
   },
   "outputs": [
    {
     "name": "stdout",
     "output_type": "stream",
     "text": [
      "X_train Shape:  (6954, 12)\n",
      "X_test Shape:  (1739, 12)\n",
      "y_train Shape:  (6954,)\n",
      "y_test Shape:  (1739,)\n"
     ]
    }
   ],
   "source": [
    "X_train, X_test, y_train, y_test = train_test_split(X, y, test_size=0.2, random_state=42)\n",
    "print(\"X_train Shape: \", X_train.shape)\n",
    "print(\"X_test Shape: \", X_test.shape)\n",
    "print(\"y_train Shape: \", y_train.shape)\n",
    "print(\"y_test Shape: \", y_test.shape)"
   ]
  },
  {
   "cell_type": "code",
   "execution_count": 14,
   "id": "a2f64e68",
   "metadata": {
    "execution": {
     "iopub.execute_input": "2023-03-11T14:46:31.980656Z",
     "iopub.status.busy": "2023-03-11T14:46:31.979869Z",
     "iopub.status.idle": "2023-03-11T14:46:31.994917Z",
     "shell.execute_reply": "2023-03-11T14:46:31.993972Z"
    },
    "papermill": {
     "duration": 0.029143,
     "end_time": "2023-03-11T14:46:31.997355",
     "exception": false,
     "start_time": "2023-03-11T14:46:31.968212",
     "status": "completed"
    },
    "tags": []
   },
   "outputs": [
    {
     "data": {
      "text/plain": [
       "Pipeline(steps=[('simpleimputer', SimpleImputer()),\n",
       "                ('randomforestclassifier', RandomForestClassifier())])"
      ]
     },
     "execution_count": 14,
     "metadata": {},
     "output_type": "execute_result"
    }
   ],
   "source": [
    "rf_clf = make_pipeline(SimpleImputer(), RandomForestClassifier())\n",
    "rf_clf"
   ]
  },
  {
   "cell_type": "code",
   "execution_count": 15,
   "id": "87dd1a06",
   "metadata": {
    "execution": {
     "iopub.execute_input": "2023-03-11T14:46:32.021364Z",
     "iopub.status.busy": "2023-03-11T14:46:32.020508Z",
     "iopub.status.idle": "2023-03-11T14:46:32.026693Z",
     "shell.execute_reply": "2023-03-11T14:46:32.025494Z"
    },
    "papermill": {
     "duration": 0.020778,
     "end_time": "2023-03-11T14:46:32.029177",
     "exception": false,
     "start_time": "2023-03-11T14:46:32.008399",
     "status": "completed"
    },
    "tags": []
   },
   "outputs": [],
   "source": [
    "params = {\n",
    "    \"simpleimputer__strategy\": [\"mean\", \"median\"],\n",
    "    \"randomforestclassifier__max_depth\": range(10, 51, 10),\n",
    "    \"randomforestclassifier__n_estimators\": range(25,101,25)\n",
    "}"
   ]
  },
  {
   "cell_type": "code",
   "execution_count": 16,
   "id": "6204bfb1",
   "metadata": {
    "execution": {
     "iopub.execute_input": "2023-03-11T14:46:32.052365Z",
     "iopub.status.busy": "2023-03-11T14:46:32.051919Z",
     "iopub.status.idle": "2023-03-11T14:46:32.057296Z",
     "shell.execute_reply": "2023-03-11T14:46:32.056017Z"
    },
    "papermill": {
     "duration": 0.020043,
     "end_time": "2023-03-11T14:46:32.059701",
     "exception": false,
     "start_time": "2023-03-11T14:46:32.039658",
     "status": "completed"
    },
    "tags": []
   },
   "outputs": [],
   "source": [
    "model_rf = GridSearchCV(rf_clf, param_grid=params, n_jobs=-1, cv=5, verbose=1)"
   ]
  },
  {
   "cell_type": "code",
   "execution_count": 17,
   "id": "c0127cb4",
   "metadata": {
    "execution": {
     "iopub.execute_input": "2023-03-11T14:46:32.082271Z",
     "iopub.status.busy": "2023-03-11T14:46:32.081837Z",
     "iopub.status.idle": "2023-03-11T14:47:08.596874Z",
     "shell.execute_reply": "2023-03-11T14:47:08.595542Z"
    },
    "papermill": {
     "duration": 36.538953,
     "end_time": "2023-03-11T14:47:08.608837",
     "exception": false,
     "start_time": "2023-03-11T14:46:32.069884",
     "status": "completed"
    },
    "tags": []
   },
   "outputs": [
    {
     "name": "stdout",
     "output_type": "stream",
     "text": [
      "Fitting 5 folds for each of 40 candidates, totalling 200 fits\n"
     ]
    },
    {
     "data": {
      "text/plain": [
       "GridSearchCV(cv=5,\n",
       "             estimator=Pipeline(steps=[('simpleimputer', SimpleImputer()),\n",
       "                                       ('randomforestclassifier',\n",
       "                                        RandomForestClassifier())]),\n",
       "             n_jobs=-1,\n",
       "             param_grid={'randomforestclassifier__max_depth': range(10, 51, 10),\n",
       "                         'randomforestclassifier__n_estimators': range(25, 101, 25),\n",
       "                         'simpleimputer__strategy': ['mean', 'median']},\n",
       "             verbose=1)"
      ]
     },
     "execution_count": 17,
     "metadata": {},
     "output_type": "execute_result"
    }
   ],
   "source": [
    "model_rf.fit(X_train, y_train)"
   ]
  },
  {
   "cell_type": "code",
   "execution_count": 18,
   "id": "2855e4e6",
   "metadata": {
    "execution": {
     "iopub.execute_input": "2023-03-11T14:47:08.632469Z",
     "iopub.status.busy": "2023-03-11T14:47:08.631185Z",
     "iopub.status.idle": "2023-03-11T14:47:08.638366Z",
     "shell.execute_reply": "2023-03-11T14:47:08.637326Z"
    },
    "papermill": {
     "duration": 0.021636,
     "end_time": "2023-03-11T14:47:08.640827",
     "exception": false,
     "start_time": "2023-03-11T14:47:08.619191",
     "status": "completed"
    },
    "tags": []
   },
   "outputs": [
    {
     "data": {
      "text/plain": [
       "{'randomforestclassifier__max_depth': 10,\n",
       " 'randomforestclassifier__n_estimators': 50,\n",
       " 'simpleimputer__strategy': 'median'}"
      ]
     },
     "execution_count": 18,
     "metadata": {},
     "output_type": "execute_result"
    }
   ],
   "source": [
    "model_rf.best_params_"
   ]
  },
  {
   "cell_type": "code",
   "execution_count": 19,
   "id": "a0de78a0",
   "metadata": {
    "execution": {
     "iopub.execute_input": "2023-03-11T14:47:08.664679Z",
     "iopub.status.busy": "2023-03-11T14:47:08.664236Z",
     "iopub.status.idle": "2023-03-11T14:47:08.697562Z",
     "shell.execute_reply": "2023-03-11T14:47:08.696345Z"
    },
    "papermill": {
     "duration": 0.048212,
     "end_time": "2023-03-11T14:47:08.700402",
     "exception": false,
     "start_time": "2023-03-11T14:47:08.652190",
     "status": "completed"
    },
    "tags": []
   },
   "outputs": [
    {
     "data": {
      "text/plain": [
       "0.7878090856814262"
      ]
     },
     "execution_count": 19,
     "metadata": {},
     "output_type": "execute_result"
    }
   ],
   "source": [
    "model_rf.score(X_test, y_test)"
   ]
  },
  {
   "cell_type": "code",
   "execution_count": 20,
   "id": "da8edbc3",
   "metadata": {
    "execution": {
     "iopub.execute_input": "2023-03-11T14:47:08.724635Z",
     "iopub.status.busy": "2023-03-11T14:47:08.723561Z",
     "iopub.status.idle": "2023-03-11T14:47:08.779345Z",
     "shell.execute_reply": "2023-03-11T14:47:08.777981Z"
    },
    "papermill": {
     "duration": 0.07101,
     "end_time": "2023-03-11T14:47:08.782203",
     "exception": false,
     "start_time": "2023-03-11T14:47:08.711193",
     "status": "completed"
    },
    "tags": []
   },
   "outputs": [
    {
     "data": {
      "text/html": [
       "<div>\n",
       "<style scoped>\n",
       "    .dataframe tbody tr th:only-of-type {\n",
       "        vertical-align: middle;\n",
       "    }\n",
       "\n",
       "    .dataframe tbody tr th {\n",
       "        vertical-align: top;\n",
       "    }\n",
       "\n",
       "    .dataframe thead th {\n",
       "        text-align: right;\n",
       "    }\n",
       "</style>\n",
       "<table border=\"1\" class=\"dataframe\">\n",
       "  <thead>\n",
       "    <tr style=\"text-align: right;\">\n",
       "      <th></th>\n",
       "      <th>PassengerId</th>\n",
       "      <th>CryoSleep</th>\n",
       "      <th>Age</th>\n",
       "      <th>VIP</th>\n",
       "      <th>RoomService</th>\n",
       "      <th>FoodCourt</th>\n",
       "      <th>ShoppingMall</th>\n",
       "      <th>Spa</th>\n",
       "      <th>VRDeck</th>\n",
       "      <th>Europa</th>\n",
       "      <th>Mars</th>\n",
       "      <th>PSO J318.5-22</th>\n",
       "      <th>TRAPPIST-1e</th>\n",
       "    </tr>\n",
       "  </thead>\n",
       "  <tbody>\n",
       "    <tr>\n",
       "      <th>0</th>\n",
       "      <td>0013_01</td>\n",
       "      <td>True</td>\n",
       "      <td>27.0</td>\n",
       "      <td>False</td>\n",
       "      <td>0.0</td>\n",
       "      <td>0.0</td>\n",
       "      <td>0.0</td>\n",
       "      <td>0.0</td>\n",
       "      <td>0.0</td>\n",
       "      <td>0</td>\n",
       "      <td>0</td>\n",
       "      <td>0</td>\n",
       "      <td>1</td>\n",
       "    </tr>\n",
       "    <tr>\n",
       "      <th>1</th>\n",
       "      <td>0018_01</td>\n",
       "      <td>False</td>\n",
       "      <td>19.0</td>\n",
       "      <td>False</td>\n",
       "      <td>0.0</td>\n",
       "      <td>9.0</td>\n",
       "      <td>0.0</td>\n",
       "      <td>2823.0</td>\n",
       "      <td>0.0</td>\n",
       "      <td>0</td>\n",
       "      <td>0</td>\n",
       "      <td>0</td>\n",
       "      <td>1</td>\n",
       "    </tr>\n",
       "    <tr>\n",
       "      <th>2</th>\n",
       "      <td>0019_01</td>\n",
       "      <td>True</td>\n",
       "      <td>31.0</td>\n",
       "      <td>False</td>\n",
       "      <td>0.0</td>\n",
       "      <td>0.0</td>\n",
       "      <td>0.0</td>\n",
       "      <td>0.0</td>\n",
       "      <td>0.0</td>\n",
       "      <td>1</td>\n",
       "      <td>0</td>\n",
       "      <td>0</td>\n",
       "      <td>0</td>\n",
       "    </tr>\n",
       "    <tr>\n",
       "      <th>3</th>\n",
       "      <td>0021_01</td>\n",
       "      <td>False</td>\n",
       "      <td>38.0</td>\n",
       "      <td>False</td>\n",
       "      <td>0.0</td>\n",
       "      <td>6652.0</td>\n",
       "      <td>0.0</td>\n",
       "      <td>181.0</td>\n",
       "      <td>585.0</td>\n",
       "      <td>1</td>\n",
       "      <td>0</td>\n",
       "      <td>0</td>\n",
       "      <td>1</td>\n",
       "    </tr>\n",
       "    <tr>\n",
       "      <th>4</th>\n",
       "      <td>0023_01</td>\n",
       "      <td>False</td>\n",
       "      <td>20.0</td>\n",
       "      <td>False</td>\n",
       "      <td>10.0</td>\n",
       "      <td>0.0</td>\n",
       "      <td>635.0</td>\n",
       "      <td>0.0</td>\n",
       "      <td>0.0</td>\n",
       "      <td>0</td>\n",
       "      <td>0</td>\n",
       "      <td>0</td>\n",
       "      <td>1</td>\n",
       "    </tr>\n",
       "  </tbody>\n",
       "</table>\n",
       "</div>"
      ],
      "text/plain": [
       "  PassengerId  CryoSleep   Age    VIP  RoomService  FoodCourt  ShoppingMall  \\\n",
       "0     0013_01       True  27.0  False          0.0        0.0           0.0   \n",
       "1     0018_01      False  19.0  False          0.0        9.0           0.0   \n",
       "2     0019_01       True  31.0  False          0.0        0.0           0.0   \n",
       "3     0021_01      False  38.0  False          0.0     6652.0           0.0   \n",
       "4     0023_01      False  20.0  False         10.0        0.0         635.0   \n",
       "\n",
       "      Spa  VRDeck  Europa  Mars  PSO J318.5-22  TRAPPIST-1e  \n",
       "0     0.0     0.0       0     0              0            1  \n",
       "1  2823.0     0.0       0     0              0            1  \n",
       "2     0.0     0.0       1     0              0            0  \n",
       "3   181.0   585.0       1     0              0            1  \n",
       "4     0.0     0.0       0     0              0            1  "
      ]
     },
     "execution_count": 20,
     "metadata": {},
     "output_type": "execute_result"
    }
   ],
   "source": [
    "Test_data = wrangle(\"/kaggle/input/spaceship-titanic/test.csv\")\n",
    "Test_data.head()"
   ]
  },
  {
   "cell_type": "code",
   "execution_count": 21,
   "id": "f1584b7f",
   "metadata": {
    "execution": {
     "iopub.execute_input": "2023-03-11T14:47:08.806808Z",
     "iopub.status.busy": "2023-03-11T14:47:08.805920Z",
     "iopub.status.idle": "2023-03-11T14:47:08.821509Z",
     "shell.execute_reply": "2023-03-11T14:47:08.820055Z"
    },
    "papermill": {
     "duration": 0.031484,
     "end_time": "2023-03-11T14:47:08.824868",
     "exception": false,
     "start_time": "2023-03-11T14:47:08.793384",
     "status": "completed"
    },
    "tags": []
   },
   "outputs": [
    {
     "name": "stdout",
     "output_type": "stream",
     "text": [
      "<class 'pandas.core.frame.DataFrame'>\n",
      "RangeIndex: 4277 entries, 0 to 4276\n",
      "Data columns (total 13 columns):\n",
      " #   Column         Non-Null Count  Dtype  \n",
      "---  ------         --------------  -----  \n",
      " 0   PassengerId    4277 non-null   object \n",
      " 1   CryoSleep      4277 non-null   bool   \n",
      " 2   Age            4186 non-null   float64\n",
      " 3   VIP            4277 non-null   bool   \n",
      " 4   RoomService    4195 non-null   float64\n",
      " 5   FoodCourt      4171 non-null   float64\n",
      " 6   ShoppingMall   4179 non-null   float64\n",
      " 7   Spa            4176 non-null   float64\n",
      " 8   VRDeck         4197 non-null   float64\n",
      " 9   Europa         4277 non-null   uint8  \n",
      " 10  Mars           4277 non-null   uint8  \n",
      " 11  PSO J318.5-22  4277 non-null   uint8  \n",
      " 12  TRAPPIST-1e    4277 non-null   uint8  \n",
      "dtypes: bool(2), float64(6), object(1), uint8(4)\n",
      "memory usage: 259.1+ KB\n"
     ]
    }
   ],
   "source": [
    "Test_data.info()"
   ]
  },
  {
   "cell_type": "code",
   "execution_count": 22,
   "id": "f09de284",
   "metadata": {
    "execution": {
     "iopub.execute_input": "2023-03-11T14:47:08.849884Z",
     "iopub.status.busy": "2023-03-11T14:47:08.849056Z",
     "iopub.status.idle": "2023-03-11T14:47:08.901138Z",
     "shell.execute_reply": "2023-03-11T14:47:08.899936Z"
    },
    "papermill": {
     "duration": 0.067159,
     "end_time": "2023-03-11T14:47:08.903921",
     "exception": false,
     "start_time": "2023-03-11T14:47:08.836762",
     "status": "completed"
    },
    "tags": []
   },
   "outputs": [
    {
     "data": {
      "text/plain": [
       "array([ True, False,  True, ...,  True,  True,  True])"
      ]
     },
     "execution_count": 22,
     "metadata": {},
     "output_type": "execute_result"
    }
   ],
   "source": [
    "model_rf.predict(Test_data.drop(columns=\"PassengerId\"))"
   ]
  },
  {
   "cell_type": "code",
   "execution_count": 23,
   "id": "b9a4e39c",
   "metadata": {
    "execution": {
     "iopub.execute_input": "2023-03-11T14:47:08.927833Z",
     "iopub.status.busy": "2023-03-11T14:47:08.927403Z",
     "iopub.status.idle": "2023-03-11T14:47:08.937855Z",
     "shell.execute_reply": "2023-03-11T14:47:08.936548Z"
    },
    "papermill": {
     "duration": 0.02534,
     "end_time": "2023-03-11T14:47:08.940376",
     "exception": false,
     "start_time": "2023-03-11T14:47:08.915036",
     "status": "completed"
    },
    "tags": []
   },
   "outputs": [
    {
     "data": {
      "text/plain": [
       "0       0013_01\n",
       "1       0018_01\n",
       "2       0019_01\n",
       "3       0021_01\n",
       "4       0023_01\n",
       "         ...   \n",
       "4272    9266_02\n",
       "4273    9269_01\n",
       "4274    9271_01\n",
       "4275    9273_01\n",
       "4276    9277_01\n",
       "Name: PassengerId, Length: 4277, dtype: object"
      ]
     },
     "execution_count": 23,
     "metadata": {},
     "output_type": "execute_result"
    }
   ],
   "source": [
    "Test_data.PassengerId"
   ]
  },
  {
   "cell_type": "code",
   "execution_count": 24,
   "id": "cf66862a",
   "metadata": {
    "execution": {
     "iopub.execute_input": "2023-03-11T14:47:08.964969Z",
     "iopub.status.busy": "2023-03-11T14:47:08.964592Z",
     "iopub.status.idle": "2023-03-11T14:47:09.021664Z",
     "shell.execute_reply": "2023-03-11T14:47:09.020608Z"
    },
    "papermill": {
     "duration": 0.072858,
     "end_time": "2023-03-11T14:47:09.024504",
     "exception": false,
     "start_time": "2023-03-11T14:47:08.951646",
     "status": "completed"
    },
    "tags": []
   },
   "outputs": [],
   "source": [
    "pd.DataFrame({\"Transported\": model_rf.predict(Test_data.drop(columns=\"PassengerId\"))}, index=Test_data.PassengerId\n",
    ").to_csv(\"/kaggle/working/submission.csv\")"
   ]
  },
  {
   "cell_type": "code",
   "execution_count": null,
   "id": "497cdcab",
   "metadata": {
    "papermill": {
     "duration": 0.011253,
     "end_time": "2023-03-11T14:47:09.047297",
     "exception": false,
     "start_time": "2023-03-11T14:47:09.036044",
     "status": "completed"
    },
    "tags": []
   },
   "outputs": [],
   "source": []
  }
 ],
 "metadata": {
  "kernelspec": {
   "display_name": "Python 3",
   "language": "python",
   "name": "python3"
  },
  "language_info": {
   "codemirror_mode": {
    "name": "ipython",
    "version": 3
   },
   "file_extension": ".py",
   "mimetype": "text/x-python",
   "name": "python",
   "nbconvert_exporter": "python",
   "pygments_lexer": "ipython3",
   "version": "3.7.12"
  },
  "papermill": {
   "default_parameters": {},
   "duration": 53.236782,
   "end_time": "2023-03-11T14:47:11.680596",
   "environment_variables": {},
   "exception": null,
   "input_path": "__notebook__.ipynb",
   "output_path": "__notebook__.ipynb",
   "parameters": {},
   "start_time": "2023-03-11T14:46:18.443814",
   "version": "2.4.0"
  }
 },
 "nbformat": 4,
 "nbformat_minor": 5
}
